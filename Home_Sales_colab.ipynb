{
  "cells": [
    {
      "cell_type": "code",
      "execution_count": 1,
      "metadata": {
        "colab": {
          "base_uri": "https://localhost:8080/"
        },
        "id": "a_KW73O2e3dw",
        "outputId": "5bbcea1a-5ab7-4d67-dc13-7c566cf6defb"
      },
      "outputs": [
        {
          "name": "stdout",
          "output_type": "stream",
          "text": [
            "Collecting pyspark\n",
            "  Downloading pyspark-3.5.0.tar.gz (316.9 MB)\n",
            "\u001b[2K     \u001b[90m━━━━━━━━━━━━━━━━━━━━━━━━━━━━━━━━━━━━━━━━\u001b[0m \u001b[32m316.9/316.9 MB\u001b[0m \u001b[31m4.4 MB/s\u001b[0m eta \u001b[36m0:00:00\u001b[0m\n",
            "\u001b[?25h  Preparing metadata (setup.py) ... \u001b[?25l\u001b[?25hdone\n",
            "Requirement already satisfied: py4j==0.10.9.7 in /usr/local/lib/python3.10/dist-packages (from pyspark) (0.10.9.7)\n",
            "Building wheels for collected packages: pyspark\n",
            "  Building wheel for pyspark (setup.py) ... \u001b[?25l\u001b[?25hdone\n",
            "  Created wheel for pyspark: filename=pyspark-3.5.0-py2.py3-none-any.whl size=317425345 sha256=3417851756f0e85462ca83dbdd03dd28918fe50b9aa9c2554ade0dd561a93be3\n",
            "  Stored in directory: /root/.cache/pip/wheels/41/4e/10/c2cf2467f71c678cfc8a6b9ac9241e5e44a01940da8fbb17fc\n",
            "Successfully built pyspark\n",
            "Installing collected packages: pyspark\n",
            "Successfully installed pyspark-3.5.0\n",
            "Requirement already satisfied: py4j in /usr/local/lib/python3.10/dist-packages (0.10.9.7)\n"
          ]
        }
      ],
      "source": [
        "!wget -q https://dlcdn.apache.org/spark/spark-3.5.0/spark-3.5.0-bin-hadoop3.tgz\n",
        "!tar xf spark-3.5.0-bin-hadoop3.tgz\n",
        "!pip install -q findspark\n",
        "!pip install pyspark\n",
        "!pip install py4j\n",
        "import os\n",
        "import sys\n",
        "# os.environ[\"JAVA_HOME\"] = \"/usr/lib/jvm/java-8-openjdk-amd64\"\n",
        "# os.environ[\"SPARK_HOME\"] = \"/content/spark-3.2.1-bin-hadoop3.2\"# Start a SparkSession\n",
        "import findspark\n",
        "findspark.init()"
      ]
    },
    {
      "cell_type": "code",
      "execution_count": 2,
      "metadata": {
        "id": "2XbWNf1Te5fM"
      },
      "outputs": [],
      "source": [
        "# Import packages\n",
        "from pyspark.sql import SparkSession\n",
        "import time\n",
        "\n",
        "# Create a SparkSession\n",
        "spark = SparkSession.builder.appName(\"SparkSQL\").getOrCreate()"
      ]
    },
    {
      "cell_type": "code",
      "execution_count": 4,
      "metadata": {
        "colab": {
          "base_uri": "https://localhost:8080/"
        },
        "id": "wOJqxG_RPSwp",
        "outputId": "91f4f894-65bd-4cc2-a11b-c7ed24d3ae90"
      },
      "outputs": [
        {
          "name": "stdout",
          "output_type": "stream",
          "text": [
            "+--------------------+----------+----------+------+--------+---------+-----------+--------+------+----------+----+\n",
            "|                  id|      date|date_built| price|bedrooms|bathrooms|sqft_living|sqft_lot|floors|waterfront|view|\n",
            "+--------------------+----------+----------+------+--------+---------+-----------+--------+------+----------+----+\n",
            "|f8a53099-ba1c-47d...|2022-04-08|      2016|936923|       4|        3|       3167|   11733|     2|         1|  76|\n",
            "|7530a2d8-1ae3-451...|2021-06-13|      2013|379628|       2|        2|       2235|   14384|     1|         0|  23|\n",
            "|43de979c-0bf0-4c9...|2019-04-12|      2014|417866|       2|        2|       2127|   10575|     2|         0|   0|\n",
            "|b672c137-b88c-48b...|2019-10-16|      2016|239895|       2|        2|       1631|   11149|     2|         0|   0|\n",
            "|e0726d4d-d595-407...|2022-01-08|      2017|424418|       3|        2|       2249|   13878|     2|         0|   4|\n",
            "|5aa00529-0533-46b...|2019-01-30|      2017|218712|       2|        3|       1965|   14375|     2|         0|   7|\n",
            "|131492a1-72e2-4a8...|2020-02-08|      2017|419199|       2|        3|       2062|    8876|     2|         0|   6|\n",
            "|8d54a71b-c520-44e...|2019-07-21|      2010|323956|       2|        3|       1506|   11816|     1|         0|  25|\n",
            "|e81aacfe-17fe-46b...|2020-06-16|      2016|181925|       3|        3|       2137|   11709|     2|         0|  22|\n",
            "|2ed8d509-7372-46d...|2021-08-06|      2015|258710|       3|        3|       1918|    9666|     1|         0|  25|\n",
            "|f876d86f-3c9f-42b...|2019-02-27|      2011|167864|       3|        3|       2471|   13924|     2|         0|  15|\n",
            "|0a2bd445-8508-4d8...|2021-12-30|      2014|337527|       2|        3|       1926|   12556|     1|         0|  23|\n",
            "|941bad30-eb49-4a7...|2020-05-09|      2015|229896|       3|        3|       2197|    8641|     1|         0|   3|\n",
            "|dd61eb34-6589-4c0...|2021-07-25|      2016|210247|       3|        2|       1672|   11986|     2|         0|  28|\n",
            "|f1e4cef7-d151-439...|2019-02-01|      2011|398667|       2|        3|       2331|   11356|     1|         0|   7|\n",
            "|ea620c7b-c2f7-4c6...|2021-05-31|      2011|437958|       3|        3|       2356|   11052|     1|         0|  26|\n",
            "|f233cb41-6f33-4b0...|2021-07-18|      2016|437375|       4|        3|       1704|   11721|     2|         0|  34|\n",
            "|c797ca12-52cd-4b1...|2019-06-08|      2015|288650|       2|        3|       2100|   10419|     2|         0|   7|\n",
            "|0cfe57f3-28c2-472...|2019-10-04|      2015|308313|       3|        3|       1960|    9453|     2|         0|   2|\n",
            "|4566cd2a-ac6e-435...|2019-07-15|      2016|177541|       3|        3|       2130|   10517|     2|         0|  25|\n",
            "+--------------------+----------+----------+------+--------+---------+-----------+--------+------+----------+----+\n",
            "only showing top 20 rows\n",
            "\n"
          ]
        }
      ],
      "source": [
        "# 1. Read in the AWS S3 bucket into a DataFrame.\n",
        "from pyspark import SparkFiles\n",
        "url = \"https://2u-data-curriculum-team.s3.amazonaws.com/dataviz-classroom/v1.2/22-big-data/home_sales_revised.csv\"\n",
        "\n",
        "spark.sparkContext.addFile(url)\n",
        "df = spark.read.csv(SparkFiles.get(\"home_sales_revised.csv\"), sep=\",\", header=True)\n",
        "df.show()\n",
        "\n"
      ]
    },
    {
      "cell_type": "code",
      "execution_count": 5,
      "metadata": {
        "id": "RoljcJ7WPpnm"
      },
      "outputs": [],
      "source": [
        "# 2. Create a temporary view of the DataFrame.\n",
        "\n",
        "df.createOrReplaceTempView('home_sales')\n"
      ]
    },
    {
      "cell_type": "code",
      "execution_count": 28,
      "metadata": {
        "colab": {
          "base_uri": "https://localhost:8080/"
        },
        "id": "L6fkwOeOmqvq",
        "outputId": "cc4a62e3-c120-4ad4-8d72-52cd778ae18b"
      },
      "outputs": [
        {
          "name": "stdout",
          "output_type": "stream",
          "text": [
            "+----+-----------------+\n",
            "|year|AverageHousePrice|\n",
            "+----+-----------------+\n",
            "|2019|         300263.7|\n",
            "|2020|        298353.78|\n",
            "|2021|        301819.44|\n",
            "|2022|        296363.88|\n",
            "+----+-----------------+\n",
            "\n"
          ]
        }
      ],
      "source": [
        "# 3. What is the average price for a four bedroom house sold in each year rounded to two decimal places?\n",
        "spark.sql(\"\"\"\n",
        "\n",
        "    SELECT SUBSTRING(date, 1, 4) as year, ROUND(AVG(price), 2) as AverageHousePrice\n",
        "    FROM home_sales\n",
        "    WHERE bedrooms = 4\n",
        "    GROUP BY 1\n",
        "    SORT BY 1 ASC\n",
        "\n",
        "\"\"\").show()\n"
      ]
    },
    {
      "cell_type": "markdown",
      "metadata": {
        "id": "_c_VcbtUenfc"
      },
      "source": [
        "The average price of a four bedroom house sold in each year is:\n",
        "\n",
        "\\$300,263.70 in 2019 \\\\\n",
        "\\$298,353.78 in 2020 \\\\\n",
        "\\$301,819.44 in 2021 \\\\\n",
        "\\$296,363.88 in 2022 \\\\"
      ]
    },
    {
      "cell_type": "code",
      "execution_count": 26,
      "metadata": {
        "colab": {
          "base_uri": "https://localhost:8080/"
        },
        "id": "l8p_tUS8h8it",
        "outputId": "45cfd2cf-aeb4-4057-df59-28ba5347f8e1"
      },
      "outputs": [
        {
          "name": "stdout",
          "output_type": "stream",
          "text": [
            "+----------+-----------------+\n",
            "|date_built|AverageHousePrice|\n",
            "+----------+-----------------+\n",
            "|      2010|        292859.62|\n",
            "|      2011|        291117.47|\n",
            "|      2012|        293683.19|\n",
            "|      2013|        295962.27|\n",
            "|      2014|        290852.27|\n",
            "|      2015|         288770.3|\n",
            "|      2016|        290555.07|\n",
            "|      2017|        292676.79|\n",
            "+----------+-----------------+\n",
            "\n"
          ]
        }
      ],
      "source": [
        "# 4. What is the average price of a home for each year the home was built that have 3 bedrooms and 3 bathrooms rounded to two decimal places?\n",
        "\n",
        "spark.sql(\"\"\"\n",
        "\n",
        "      SELECT date_built, ROUND(AVG(price), 2) as AverageHousePrice\n",
        "      FROM home_sales\n",
        "      WHERE bedrooms = 3\n",
        "      AND bathrooms = 3\n",
        "      GROUP BY 1\n",
        "      SORT BY 1 ASC\n",
        "\n",
        "\n",
        "\n",
        "\"\"\").show()\n"
      ]
    },
    {
      "cell_type": "markdown",
      "metadata": {
        "id": "N3zD1ujMfiNL"
      },
      "source": [
        "The average price of a three bedroom and three bathroom house built in each year is:\n",
        "\n",
        "\\$292,859.62 in 2010 \\\\\n",
        "\\$291,117.47 in 2011 \\\\\n",
        "\\$293,683.19 in 2012 \\\\\n",
        "\\$295,962.27 in 2013 \\\\\n",
        "\\$290,852.27 in 2014 \\\\\n",
        "\\$288,770.30 in 2015 \\\\\n",
        "\\$290,555.07 in 2016 \\\\\n",
        "\\$292,676.79 in 2017 \\\\\n"
      ]
    },
    {
      "cell_type": "code",
      "execution_count": 25,
      "metadata": {
        "colab": {
          "base_uri": "https://localhost:8080/"
        },
        "id": "Y-Eytz64liDU",
        "outputId": "b2172258-d62a-446b-b614-c021107d112d"
      },
      "outputs": [
        {
          "name": "stdout",
          "output_type": "stream",
          "text": [
            "+----------+-----------------+\n",
            "|date_built|AverageHousePrice|\n",
            "+----------+-----------------+\n",
            "|      2010|        285010.22|\n",
            "|      2011|        276553.81|\n",
            "|      2012|        307539.97|\n",
            "|      2013|        303676.79|\n",
            "|      2014|        298264.72|\n",
            "|      2015|        297609.97|\n",
            "|      2016|         293965.1|\n",
            "|      2017|        280317.58|\n",
            "+----------+-----------------+\n",
            "\n"
          ]
        }
      ],
      "source": [
        "#  5. What is the average price of a home for each year built that have 3 bedrooms, 3 bathrooms, with two floors,\n",
        "# and are greater than or equal to 2,000 square feet rounded to two decimal places?\n",
        "\n",
        "spark.sql(\"\"\"\n",
        "\n",
        "        SELECT date_built, ROUND(AVG(price), 2) as AverageHousePrice\n",
        "        FROM home_sales\n",
        "        WHERE bedrooms = 3\n",
        "        AND bathrooms = 3\n",
        "        AND floors = 2\n",
        "        AND sqft_living >= 2000\n",
        "        GROUP BY 1\n",
        "        SORT BY 1 ASC\n",
        "\n",
        "\n",
        "\"\"\").show()\n",
        "\n",
        "\n"
      ]
    },
    {
      "cell_type": "markdown",
      "metadata": {
        "id": "Yya-753pgIpn"
      },
      "source": [
        "The average price of a three bedroom, three bathroom, and 2 floor house built in each year is:\n",
        "\n",
        "\\$\\$ 285,010.22 in 2010 \\\n",
        "\\$\\$ 276,553.81 in 2011 \\\n",
        "\\$\\$ 307,539.97 in 2012 \\\n",
        "\\$\\$ 303,676.79 in 2013 \\\n",
        "\\$\\$ 298,264.72 in 2014 \\\n",
        "\\$\\$ 297,609.97 in 2015 \\\n",
        "\\$\\$ 293,965.10 in 2016 \\\n",
        "\\$\\$ 280,317.58 in 2017 \n"
      ]
    },
    {
      "cell_type": "code",
      "execution_count": 30,
      "metadata": {
        "colab": {
          "base_uri": "https://localhost:8080/"
        },
        "id": "-7vflKaRi9i_",
        "outputId": "e5cc4001-7a70-45a3-9948-2423406f10de"
      },
      "outputs": [
        {
          "name": "stdout",
          "output_type": "stream",
          "text": [
            "+--------------------+----------+----------+------+--------+---------+-----------+--------+------+----------+----+\n",
            "|                  id|      date|date_built| price|bedrooms|bathrooms|sqft_living|sqft_lot|floors|waterfront|view|\n",
            "+--------------------+----------+----------+------+--------+---------+-----------+--------+------+----------+----+\n",
            "|f8a53099-ba1c-47d...|2022-04-08|      2016|936923|       4|        3|       3167|   11733|     2|         1|  76|\n",
            "|7530a2d8-1ae3-451...|2021-06-13|      2013|379628|       2|        2|       2235|   14384|     1|         0|  23|\n",
            "|43de979c-0bf0-4c9...|2019-04-12|      2014|417866|       2|        2|       2127|   10575|     2|         0|   0|\n",
            "|b672c137-b88c-48b...|2019-10-16|      2016|239895|       2|        2|       1631|   11149|     2|         0|   0|\n",
            "|e0726d4d-d595-407...|2022-01-08|      2017|424418|       3|        2|       2249|   13878|     2|         0|   4|\n",
            "+--------------------+----------+----------+------+--------+---------+-----------+--------+------+----------+----+\n",
            "only showing top 5 rows\n",
            "\n"
          ]
        }
      ],
      "source": [
        "df.show(5)"
      ]
    },
    {
      "cell_type": "code",
      "execution_count": 37,
      "metadata": {
        "colab": {
          "base_uri": "https://localhost:8080/"
        },
        "id": "GUrfgOX1pCRd",
        "outputId": "17773c12-bae4-40ee-f660-5c4522f42648"
      },
      "outputs": [
        {
          "name": "stdout",
          "output_type": "stream",
          "text": [
            "+----+-----------------+\n",
            "|view|AverageHousePrice|\n",
            "+----+-----------------+\n",
            "|  99|       1061201.42|\n",
            "|  98|       1053739.33|\n",
            "|  97|       1129040.15|\n",
            "|  96|       1017815.92|\n",
            "|  95|        1054325.6|\n",
            "|  94|        1033536.2|\n",
            "|  93|       1026006.06|\n",
            "|  92|        970402.55|\n",
            "|  91|       1137372.73|\n",
            "|  90|       1062654.16|\n",
            "|   9|        401393.34|\n",
            "|  89|       1107839.15|\n",
            "|  88|       1031719.35|\n",
            "|  87|        1072285.2|\n",
            "|  86|       1070444.25|\n",
            "|  85|       1056336.74|\n",
            "|  84|       1117233.13|\n",
            "|  83|       1033965.93|\n",
            "|  82|        1063498.0|\n",
            "|  81|       1053472.79|\n",
            "+----+-----------------+\n",
            "only showing top 20 rows\n",
            "\n",
            "--- 0.7046432495117188 seconds ---\n"
          ]
        }
      ],
      "source": [
        "# 6. What is the \"view\" rating for the average price of a home, rounded to two decimal places, where the homes are greater than\n",
        "# or equal to $350,000? Although this is a small dataset, determine the run time for this query.\n",
        "\n",
        "start_time = time.time()\n",
        "\n",
        "spark.sql(\"\"\"\n",
        "\n",
        "        SELECT view, ROUND(AVG(price), 2) as AverageHousePrice\n",
        "        FROM home_sales\n",
        "        WHERE price >= 350000\n",
        "        GROUP BY 1\n",
        "        SORT BY 1 DESC\n",
        "\n",
        "\n",
        "\"\"\").show()\n",
        "\n",
        "\n",
        "\n",
        "print(\"--- %s seconds ---\" % (time.time() - start_time))"
      ]
    },
    {
      "cell_type": "code",
      "execution_count": 38,
      "metadata": {
        "colab": {
          "base_uri": "https://localhost:8080/"
        },
        "id": "KAhk3ZD2tFy8",
        "outputId": "bfc3dbcc-5146-4387-d1c6-0b6029ebc8d8"
      },
      "outputs": [
        {
          "data": {
            "text/plain": [
              "DataFrame[]"
            ]
          },
          "execution_count": 38,
          "metadata": {},
          "output_type": "execute_result"
        }
      ],
      "source": [
        "# 7. Cache the the temporary table home_sales.\n",
        "\n",
        "spark.sql(\"cache table home_sales\")"
      ]
    },
    {
      "cell_type": "code",
      "execution_count": 39,
      "metadata": {
        "colab": {
          "base_uri": "https://localhost:8080/"
        },
        "id": "4opVhbvxtL-i",
        "outputId": "96955402-ca99-4951-b549-575df1890a66"
      },
      "outputs": [
        {
          "data": {
            "text/plain": [
              "True"
            ]
          },
          "execution_count": 39,
          "metadata": {},
          "output_type": "execute_result"
        }
      ],
      "source": [
        "# 8. Check if the table is cached.\n",
        "spark.catalog.isCached('home_sales')"
      ]
    },
    {
      "cell_type": "code",
      "execution_count": 51,
      "metadata": {
        "colab": {
          "base_uri": "https://localhost:8080/"
        },
        "id": "5GnL46lwTSEk",
        "outputId": "60457ed5-3d7f-4708-868b-5459f3c823b2"
      },
      "outputs": [
        {
          "name": "stdout",
          "output_type": "stream",
          "text": [
            "+----+-----------------+\n",
            "|view|AverageHousePrice|\n",
            "+----+-----------------+\n",
            "|  99|       1061201.42|\n",
            "|  98|       1053739.33|\n",
            "|  97|       1129040.15|\n",
            "|  96|       1017815.92|\n",
            "|  95|        1054325.6|\n",
            "|  94|        1033536.2|\n",
            "|  93|       1026006.06|\n",
            "|  92|        970402.55|\n",
            "|  91|       1137372.73|\n",
            "|  90|       1062654.16|\n",
            "|   9|        401393.34|\n",
            "|  89|       1107839.15|\n",
            "|  88|       1031719.35|\n",
            "|  87|        1072285.2|\n",
            "|  86|       1070444.25|\n",
            "|  85|       1056336.74|\n",
            "|  84|       1117233.13|\n",
            "|  83|       1033965.93|\n",
            "|  82|        1063498.0|\n",
            "|  81|       1053472.79|\n",
            "+----+-----------------+\n",
            "only showing top 20 rows\n",
            "\n",
            "--- 0.45383310317993164 seconds ---\n"
          ]
        }
      ],
      "source": [
        "# 9. Using the cached data, run the query that filters out the view ratings with average price\n",
        "#  greater than or equal to $350,000. Determine the runtime and compare it to uncached runtime.\n",
        "\n",
        "start_time = time.time()\n",
        "\n",
        "spark.sql(\"\"\"\n",
        "\n",
        "        SELECT view, ROUND(AVG(price), 2) as AverageHousePrice\n",
        "        FROM home_sales\n",
        "        WHERE price >= 350000\n",
        "        GROUP BY 1\n",
        "        SORT BY 1 DESC\n",
        "\n",
        "\n",
        "\"\"\").show()\n",
        "\n",
        "\n",
        "print(\"--- %s seconds ---\" % (time.time() - start_time))\n"
      ]
    },
    {
      "cell_type": "markdown",
      "metadata": {
        "id": "PQcVRj_RkQty"
      },
      "source": [
        "Uncached runtime: 0.70 seconds \\\n",
        "Cached runtime: 0.45 seconds"
      ]
    },
    {
      "cell_type": "code",
      "execution_count": 53,
      "metadata": {
        "id": "Qm12WN9isHBR"
      },
      "outputs": [],
      "source": [
        "# 10. Partition by the \"date_built\" field on the formatted parquet home sales data\n",
        "\n",
        "df.write.partitionBy('date_built').mode('overwrite').parquet('home_sales_partitioned')\n",
        "\n"
      ]
    },
    {
      "cell_type": "code",
      "execution_count": 54,
      "metadata": {
        "id": "AZ7BgY61sRqY"
      },
      "outputs": [],
      "source": [
        "# 11. Read the formatted parquet data.\n",
        "\n",
        "parti_df_parq = spark.read.parquet('home_sales_partitioned')\n"
      ]
    },
    {
      "cell_type": "code",
      "execution_count": 55,
      "metadata": {
        "id": "J6MJkHfvVcvh"
      },
      "outputs": [],
      "source": [
        "# 12. Create a temporary table for the parquet data.\n",
        "\n",
        "parti_df_parq.createOrReplaceTempView('p_home_sales_p')\n"
      ]
    },
    {
      "cell_type": "code",
      "execution_count": 56,
      "metadata": {
        "colab": {
          "base_uri": "https://localhost:8080/"
        },
        "id": "G_Vhb52rU1Sn",
        "outputId": "16a377f7-06fc-45da-88cc-784e2b064b1f"
      },
      "outputs": [
        {
          "name": "stdout",
          "output_type": "stream",
          "text": [
            "+----+-----------------+\n",
            "|view|AverageHousePrice|\n",
            "+----+-----------------+\n",
            "|  99|       1061201.42|\n",
            "|  98|       1053739.33|\n",
            "|  97|       1129040.15|\n",
            "|  96|       1017815.92|\n",
            "|  95|        1054325.6|\n",
            "|  94|        1033536.2|\n",
            "|  93|       1026006.06|\n",
            "|  92|        970402.55|\n",
            "|  91|       1137372.73|\n",
            "|  90|       1062654.16|\n",
            "|   9|        401393.34|\n",
            "|  89|       1107839.15|\n",
            "|  88|       1031719.35|\n",
            "|  87|        1072285.2|\n",
            "|  86|       1070444.25|\n",
            "|  85|       1056336.74|\n",
            "|  84|       1117233.13|\n",
            "|  83|       1033965.93|\n",
            "|  82|        1063498.0|\n",
            "|  81|       1053472.79|\n",
            "+----+-----------------+\n",
            "only showing top 20 rows\n",
            "\n",
            "--- 1.222876787185669 seconds ---\n"
          ]
        }
      ],
      "source": [
        "# 13. Run the query that filters out the view ratings with average price of greater than or eqaul to $350,000\n",
        "# with the parquet DataFrame. Round your average to two decimal places.\n",
        "# Determine the runtime and compare it to the cached version.\n",
        "\n",
        "start_time = time.time()\n",
        "\n",
        "spark.sql(\"\"\"\n",
        "\n",
        "        SELECT view, ROUND(AVG(price), 2) as AverageHousePrice\n",
        "        FROM p_home_sales_p\n",
        "        WHERE price >= 350000\n",
        "        GROUP BY 1\n",
        "        SORT BY 1 DESC\n",
        "\n",
        "\n",
        "\"\"\").show()\n",
        "\n",
        "\n",
        "\n",
        "print(\"--- %s seconds ---\" % (time.time() - start_time))"
      ]
    },
    {
      "cell_type": "code",
      "execution_count": 57,
      "metadata": {
        "colab": {
          "base_uri": "https://localhost:8080/"
        },
        "id": "hjjYzQGjtbq8",
        "outputId": "f5163247-fe1f-494b-ed23-7ece6140675e"
      },
      "outputs": [
        {
          "data": {
            "text/plain": [
              "DataFrame[]"
            ]
          },
          "execution_count": 57,
          "metadata": {},
          "output_type": "execute_result"
        }
      ],
      "source": [
        "# 14. Uncache the home_sales temporary table.\n",
        "\n",
        "spark.sql(\"uncache table home_sales\")\n"
      ]
    },
    {
      "cell_type": "code",
      "execution_count": 58,
      "metadata": {
        "colab": {
          "base_uri": "https://localhost:8080/"
        },
        "id": "Sy9NBvO7tlmm",
        "outputId": "dce30477-5bf6-4488-fae2-bead8a1349c9"
      },
      "outputs": [
        {
          "name": "stdout",
          "output_type": "stream",
          "text": [
            "Nothing Cached\n"
          ]
        }
      ],
      "source": [
        "# 15. Check if the home_sales is no longer cached\n",
        "\n",
        "if spark.catalog.isCached(\"home_sales\"):\n",
        "  print(\"Home Sales table still cached\")\n",
        "else:\n",
        "  print(\"Nothing Cached\")"
      ]
    },
    {
      "cell_type": "code",
      "execution_count": null,
      "metadata": {
        "id": "68CKocMfV_cb"
      },
      "outputs": [],
      "source": []
    }
  ],
  "metadata": {
    "colab": {
      "provenance": []
    },
    "kernelspec": {
      "display_name": "Python 3 (ipykernel)",
      "language": "python",
      "name": "python3"
    },
    "language_info": {
      "codemirror_mode": {
        "name": "ipython",
        "version": 3
      },
      "file_extension": ".py",
      "mimetype": "text/x-python",
      "name": "python",
      "nbconvert_exporter": "python",
      "pygments_lexer": "ipython3",
      "version": "3.10.4"
    },
    "nteract": {
      "version": "0.28.0"
    }
  },
  "nbformat": 4,
  "nbformat_minor": 0
}
